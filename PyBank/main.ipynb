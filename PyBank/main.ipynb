{
 "cells": [
  {
   "cell_type": "code",
   "execution_count": 42,
   "metadata": {},
   "outputs": [],
   "source": [
    "# Import the pathlib and csv library\n",
    "\n",
    "from pathlib import Path\n",
    "import csv"
   ]
  },
  {
   "cell_type": "code",
   "execution_count": 43,
   "metadata": {},
   "outputs": [],
   "source": [
    "# Set the path \n",
    "cvspath = Path(\"../PyBank/budget_data.csv\")"
   ]
  },
  {
   "cell_type": "code",
   "execution_count": 44,
   "metadata": {},
   "outputs": [],
   "source": [
    "# Initialize variables\n",
    "total_month_count = 0 \n",
    "net_total_pnl = 0 \n",
    "pnl_average_change = 0\n",
    "pnl_total_change = 0\n",
    "greatest_profit_increase = 0 \n",
    "greatest_loss_decrease = 0"
   ]
  },
  {
   "cell_type": "code",
   "execution_count": 45,
   "metadata": {},
   "outputs": [],
   "source": [
    "pnl = []\n",
    "monthly_changes = [] \n",
    "dates = [] "
   ]
  },
  {
   "cell_type": "code",
   "execution_count": 46,
   "metadata": {},
   "outputs": [],
   "source": [
    "# Open the csv file\n",
    "with open(cvspath, 'r') as cvsfile:\n",
    "    cvsreader = csv.reader(cvsfile, delimiter=',')\n",
    "    header = next(cvsreader)\n",
    "    \n",
    "    for row in cvsreader:\n",
    "        pnl.append(int(row[1])) \n",
    "        dates.append(row[0])\n",
    "        total_month_count += 1  \n",
    "        net_total_pnl += int(row[1])\n",
    "        monthly_changes = [y - x for (x,y) in zip(pnl, pnl[1:])]\n",
    "    \n",
    "    for monthly_change in monthly_changes: \n",
    "        pnl_total_change += monthly_change\n",
    "        pnl_average_change = (pnl_total_change / len(monthly_changes))  \n",
    "        if greatest_profit_increase == 0: \n",
    "            greatest_profit_increase = monthly_change\n",
    "        elif monthly_change < greatest_profit_increase:\n",
    "            greatest_profit_increase = monthly_change\n",
    "        elif monthly_change > greatest_profit_increase: \n",
    "            greatest_profit_increase = monthly_change"
   ]
  },
  {
   "cell_type": "code",
   "execution_count": 47,
   "metadata": {},
   "outputs": [],
   "source": [
    "monthly_changes.insert(0,0) \n",
    "new_dict = [ {\"Dates\" : v1, \"pnl\" : v2, \"monthly_changes\" : v3} for v1,v2,v3 in zip(dates, pnl, monthly_changes)]\n",
    "index_increase = next(item for item in new_dict if item[\"monthly_changes\"]== greatest_profit_increase) \n",
    "index_decrease = next(item for item in new_dict if item[\"monthly_changes\"]== greatest_loss_decrease) \n",
    "month_increase = index_increase[\"Dates\"] \n",
    "month_decrease = index_decrease[\"Dates\"] "
   ]
  },
  {
   "cell_type": "code",
   "execution_count": 48,
   "metadata": {},
   "outputs": [],
   "source": [
    "# Set output file name\n",
    "output_path = Path(\"PyBank_Analysis.txt\")\n",
    "\n",
    "# Open the output path\n",
    "with open(output_path, 'w') as file:\n",
    "    file.write(f\"PyBank Financial Analysis\\n\")\n",
    "    file.write(f\"-----------------------------\\n\")\n",
    "    file.write(f\"The Total Number of Months is: {month_count}\\n\")\n",
    "    file.write(f\"The Net Total Amount of Profit/Losses is: ${total_net}\\n\")\n",
    "    file.write(f\"The Average Change in Profit/Losses: ${average_change:.2f}\\n\")\n",
    "    file.write(f\"The Greatest Increase in Profit is reported in {month_increase} for ${max_increase}\\n\") \n",
    "    file.write(f\"The Greatest Decrease in Profit is reported in {month_decrease} for ${max_decrease}\\n\")"
   ]
  },
  {
   "cell_type": "code",
   "execution_count": null,
   "metadata": {},
   "outputs": [],
   "source": []
  }
 ],
 "metadata": {
  "kernelspec": {
   "display_name": "Python 3",
   "language": "python",
   "name": "python3"
  },
  "language_info": {
   "codemirror_mode": {
    "name": "ipython",
    "version": 3
   },
   "file_extension": ".py",
   "mimetype": "text/x-python",
   "name": "python",
   "nbconvert_exporter": "python",
   "pygments_lexer": "ipython3",
   "version": "3.7.6"
  }
 },
 "nbformat": 4,
 "nbformat_minor": 4
}
